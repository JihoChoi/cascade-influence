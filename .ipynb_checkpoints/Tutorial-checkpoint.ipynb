{
 "cells": [
  {
   "cell_type": "markdown",
   "metadata": {},
   "source": [
    "# Cascade Influence\n",
    "This repository contains:\n",
    " - Scripts of cascade influence.\n",
    " - a small dataset for testing Cas.In.\n",
    " - A hands-on tutorial to walk you through some main steps to run Cas.In.\n",
    " \n",
    "### Citation\n",
    "The algorithm was introduced in this [paper](https://arxiv.org/abs/1802.09808):\n",
    "\n",
    "**Bibtex**\n",
    "```\n",
    "@article{rizoiu2018debatenight,\n",
    "  title={\\# DebateNight: The Role and Influence of Socialbots on Twitter During the 1st US Presidential Debate},\n",
    "  author={Rizoiu, Marian-Andrei and Graham, Timothy and Zhang, Rui and Zhang, Yifei and Ackland, Robert and Xie, Lexing},\n",
    "  journal={arXiv preprint arXiv:1802.09808},\n",
    "  year={2018}\n",
    "}\n",
    "```\n",
    "### License\n",
    "Both dataset and code are distributed under the Creative Commons Attribution-NonCommercial 4.0 International (CC BY-NC 4.0) license, a copy of which can be obtained following this link. If you require a different license, please contact us at Marian-Andrei@rizoiu.eu or Lexing.Xie@anu.edu.au.\n",
    "\n",
    "\n",
    "# Run Cas.In in terminal:\n",
    "\n",
    "### Required packages:\n",
    "  - numpy\n",
    "  - pandas\n",
    "    \n",
    "### Arguments of Cas.In:\n",
    "\n",
    "*--cascade_path* : the path of cascade file. \n",
    "\n",
    "*--time_decay* : the coefficient value of time decay. **Default**:-0.000068\n",
    "\n",
    "*--save2csv* : save result to csv file. **Default**: False\n",
    "\n",
    "### Command:\n",
    "```bash\n",
    "cd scripts\n",
    "python3 influence.py --cascade_path path/to/file\n",
    "```\n",
    "\n",
    "\n",
    "# Test Dataset\n",
    "\n",
    "### Dataset\n",
    "We provide a toy dataset SMH for test. It contain news about the Sydney Morning Herald\n",
    "- The data contains 20 cascades(one file per cascade). \n",
    "- The data are real cascades crawled in 2017.\n",
    "- We perform the annonymization on the user_id by mapping a sequence(from 0 to n) to each users\n",
    "\n",
    "### Format of cascade file:\n",
    " - A csv file with 3 columns(time, magnitude, user_id) \n",
    " - Row in the file are sorted by time in seconds\n",
    " - The initial user should start at time 0s. \n",
    " - The following user's time are the time lapse from initial user\n",
    " \n",
    "eg:\n",
    "```\n",
    "time,magnitude,user_id \n",
    "0,4674,\"0\"\n",
    "321,1327,\"1\"\n",
    "339,976,\"2\"\n",
    "383,477,\"3\"\n",
    "699,1209,\"4\"\n",
    "824,119,\"5\"\n",
    "835,1408,\"6\"\n",
    "1049,896,\"7\"\n",
    "```\n",
    "\n",
    "# Cascade influence tutorial\n",
    "###  Preliminary\n",
    "We need to first load all required packages of cascade influence."
   ]
  },
  {
   "cell_type": "code",
   "execution_count": null,
   "metadata": {
    "collapsed": true
   },
   "outputs": [],
   "source": [
    "cd scripts"
   ]
  },
  {
   "cell_type": "code",
   "execution_count": 2,
   "metadata": {
    "collapsed": true
   },
   "outputs": [],
   "source": [
    "import pandas as pd\n",
    "import numpy as np\n",
    "from casIn.user_influence import P,influence"
   ]
  },
  {
   "cell_type": "markdown",
   "metadata": {},
   "source": [
    "## Compute influence in one cascade"
   ]
  },
  {
   "cell_type": "markdown",
   "metadata": {
    "collapsed": true
   },
   "source": [
    "###  Read data\n",
    "read one cascade from SMH dataset"
   ]
  },
  {
   "cell_type": "code",
   "execution_count": 3,
   "metadata": {},
   "outputs": [
    {
     "data": {
      "text/html": [
       "<div>\n",
       "<style>\n",
       "    .dataframe thead tr:only-child th {\n",
       "        text-align: right;\n",
       "    }\n",
       "\n",
       "    .dataframe thead th {\n",
       "        text-align: left;\n",
       "    }\n",
       "\n",
       "    .dataframe tbody tr th {\n",
       "        vertical-align: top;\n",
       "    }\n",
       "</style>\n",
       "<table border=\"1\" class=\"dataframe\">\n",
       "  <thead>\n",
       "    <tr style=\"text-align: right;\">\n",
       "      <th></th>\n",
       "      <th>time</th>\n",
       "      <th>magnitude</th>\n",
       "      <th>user_id</th>\n",
       "    </tr>\n",
       "  </thead>\n",
       "  <tbody>\n",
       "    <tr>\n",
       "      <th>0</th>\n",
       "      <td>0</td>\n",
       "      <td>991</td>\n",
       "      <td>0</td>\n",
       "    </tr>\n",
       "    <tr>\n",
       "      <th>1</th>\n",
       "      <td>127</td>\n",
       "      <td>1352</td>\n",
       "      <td>1</td>\n",
       "    </tr>\n",
       "    <tr>\n",
       "      <th>2</th>\n",
       "      <td>2149</td>\n",
       "      <td>2057</td>\n",
       "      <td>2</td>\n",
       "    </tr>\n",
       "    <tr>\n",
       "      <th>3</th>\n",
       "      <td>2465</td>\n",
       "      <td>1155</td>\n",
       "      <td>3</td>\n",
       "    </tr>\n",
       "    <tr>\n",
       "      <th>4</th>\n",
       "      <td>2485</td>\n",
       "      <td>1917</td>\n",
       "      <td>4</td>\n",
       "    </tr>\n",
       "  </tbody>\n",
       "</table>\n",
       "</div>"
      ],
      "text/plain": [
       "   time  magnitude  user_id\n",
       "0     0        991        0\n",
       "1   127       1352        1\n",
       "2  2149       2057        2\n",
       "3  2465       1155        3\n",
       "4  2485       1917        4"
      ]
     },
     "execution_count": 3,
     "metadata": {},
     "output_type": "execute_result"
    }
   ],
   "source": [
    "cascade = pd.read_csv(\"../data/SMH/SMH-cascade-0.csv\")\n",
    "cascade.head()"
   ]
  },
  {
   "cell_type": "markdown",
   "metadata": {},
   "source": [
    "###  Compute matrix P\n",
    "We need to specify the time decay coefficient r. Here we choose -0.000068"
   ]
  },
  {
   "cell_type": "code",
   "execution_count": 4,
   "metadata": {
    "collapsed": true
   },
   "outputs": [],
   "source": [
    "p_ij = P(cascade,r = -0.000068)"
   ]
  },
  {
   "cell_type": "markdown",
   "metadata": {},
   "source": [
    "###  Compute user influence and matrix M\n",
    "The function *inflence()* will reture an array of influence and the matrix M"
   ]
  },
  {
   "cell_type": "code",
   "execution_count": 5,
   "metadata": {
    "collapsed": true
   },
   "outputs": [],
   "source": [
    "inf, m_ij = influence(p_ij)"
   ]
  },
  {
   "cell_type": "markdown",
   "metadata": {},
   "source": [
    "###  Link influence with user_id"
   ]
  },
  {
   "cell_type": "code",
   "execution_count": 6,
   "metadata": {
    "collapsed": true
   },
   "outputs": [],
   "source": [
    "cascade[\"influence\"] = pd.Series(inf)"
   ]
  },
  {
   "cell_type": "code",
   "execution_count": 7,
   "metadata": {},
   "outputs": [
    {
     "data": {
      "text/html": [
       "<div>\n",
       "<style>\n",
       "    .dataframe thead tr:only-child th {\n",
       "        text-align: right;\n",
       "    }\n",
       "\n",
       "    .dataframe thead th {\n",
       "        text-align: left;\n",
       "    }\n",
       "\n",
       "    .dataframe tbody tr th {\n",
       "        vertical-align: top;\n",
       "    }\n",
       "</style>\n",
       "<table border=\"1\" class=\"dataframe\">\n",
       "  <thead>\n",
       "    <tr style=\"text-align: right;\">\n",
       "      <th></th>\n",
       "      <th>time</th>\n",
       "      <th>magnitude</th>\n",
       "      <th>user_id</th>\n",
       "      <th>influence</th>\n",
       "    </tr>\n",
       "  </thead>\n",
       "  <tbody>\n",
       "    <tr>\n",
       "      <th>0</th>\n",
       "      <td>0</td>\n",
       "      <td>991</td>\n",
       "      <td>0</td>\n",
       "      <td>60.000000</td>\n",
       "    </tr>\n",
       "    <tr>\n",
       "      <th>1</th>\n",
       "      <td>127</td>\n",
       "      <td>1352</td>\n",
       "      <td>1</td>\n",
       "      <td>34.590370</td>\n",
       "    </tr>\n",
       "    <tr>\n",
       "      <th>2</th>\n",
       "      <td>2149</td>\n",
       "      <td>2057</td>\n",
       "      <td>2</td>\n",
       "      <td>29.656122</td>\n",
       "    </tr>\n",
       "    <tr>\n",
       "      <th>3</th>\n",
       "      <td>2465</td>\n",
       "      <td>1155</td>\n",
       "      <td>3</td>\n",
       "      <td>13.535845</td>\n",
       "    </tr>\n",
       "    <tr>\n",
       "      <th>4</th>\n",
       "      <td>2485</td>\n",
       "      <td>1917</td>\n",
       "      <td>4</td>\n",
       "      <td>15.913873</td>\n",
       "    </tr>\n",
       "  </tbody>\n",
       "</table>\n",
       "</div>"
      ],
      "text/plain": [
       "   time  magnitude  user_id  influence\n",
       "0     0        991        0  60.000000\n",
       "1   127       1352        1  34.590370\n",
       "2  2149       2057        2  29.656122\n",
       "3  2465       1155        3  13.535845\n",
       "4  2485       1917        4  15.913873"
      ]
     },
     "execution_count": 7,
     "metadata": {},
     "output_type": "execute_result"
    }
   ],
   "source": [
    "cascade.head()"
   ]
  },
  {
   "cell_type": "markdown",
   "metadata": {},
   "source": [
    "## Compute influence over multiple cascades\n",
    "### Load function\n",
    "The function *casIn()* compute influence in one cascade, which basically contain all the steps described above"
   ]
  },
  {
   "cell_type": "code",
   "execution_count": 8,
   "metadata": {
    "collapsed": true
   },
   "outputs": [],
   "source": [
    "from casIn.user_influence import casIn"
   ]
  },
  {
   "cell_type": "code",
   "execution_count": 9,
   "metadata": {},
   "outputs": [
    {
     "data": {
      "text/html": [
       "<div>\n",
       "<style>\n",
       "    .dataframe thead tr:only-child th {\n",
       "        text-align: right;\n",
       "    }\n",
       "\n",
       "    .dataframe thead th {\n",
       "        text-align: left;\n",
       "    }\n",
       "\n",
       "    .dataframe tbody tr th {\n",
       "        vertical-align: top;\n",
       "    }\n",
       "</style>\n",
       "<table border=\"1\" class=\"dataframe\">\n",
       "  <thead>\n",
       "    <tr style=\"text-align: right;\">\n",
       "      <th></th>\n",
       "      <th>time</th>\n",
       "      <th>magnitude</th>\n",
       "      <th>user_id</th>\n",
       "      <th>influence</th>\n",
       "    </tr>\n",
       "  </thead>\n",
       "  <tbody>\n",
       "    <tr>\n",
       "      <th>0</th>\n",
       "      <td>0</td>\n",
       "      <td>991</td>\n",
       "      <td>0</td>\n",
       "      <td>60.000000</td>\n",
       "    </tr>\n",
       "    <tr>\n",
       "      <th>1</th>\n",
       "      <td>127</td>\n",
       "      <td>1352</td>\n",
       "      <td>1</td>\n",
       "      <td>34.590370</td>\n",
       "    </tr>\n",
       "    <tr>\n",
       "      <th>2</th>\n",
       "      <td>2149</td>\n",
       "      <td>2057</td>\n",
       "      <td>2</td>\n",
       "      <td>29.656122</td>\n",
       "    </tr>\n",
       "    <tr>\n",
       "      <th>3</th>\n",
       "      <td>2465</td>\n",
       "      <td>1155</td>\n",
       "      <td>3</td>\n",
       "      <td>13.535845</td>\n",
       "    </tr>\n",
       "    <tr>\n",
       "      <th>4</th>\n",
       "      <td>2485</td>\n",
       "      <td>1917</td>\n",
       "      <td>4</td>\n",
       "      <td>15.913873</td>\n",
       "    </tr>\n",
       "  </tbody>\n",
       "</table>\n",
       "</div>"
      ],
      "text/plain": [
       "   time  magnitude  user_id  influence\n",
       "0     0        991        0  60.000000\n",
       "1   127       1352        1  34.590370\n",
       "2  2149       2057        2  29.656122\n",
       "3  2465       1155        3  13.535845\n",
       "4  2485       1917        4  15.913873"
      ]
     },
     "execution_count": 9,
     "metadata": {},
     "output_type": "execute_result"
    }
   ],
   "source": [
    "influence = casIn(cascade_path=\"../data/SMH/SMH-cascade-0.csv\",time_decay=-0.000068)\n",
    "influence.head()"
   ]
  },
  {
   "cell_type": "markdown",
   "metadata": {},
   "source": [
    "### Load multiple cascades\n",
    "We provide 20 cascades for playing"
   ]
  },
  {
   "cell_type": "code",
   "execution_count": 10,
   "metadata": {
    "collapsed": true
   },
   "outputs": [],
   "source": [
    "cascades = []\n",
    "for i in range(20):\n",
    "    inf = casIn(cascade_path=\"../data/SMH/SMH-cascade-%d.csv\" % i,time_decay=-0.000068)\n",
    "    cascades.append(inf)\n",
    "cascades = pd.concat(cascades)"
   ]
  },
  {
   "cell_type": "markdown",
   "metadata": {},
   "source": [
    "### Compute user influence in multiple cascades\n",
    "For the user appears in different cascades, we compute the average influence over multiple cascades"
   ]
  },
  {
   "cell_type": "code",
   "execution_count": 11,
   "metadata": {
    "collapsed": true
   },
   "outputs": [],
   "source": [
    "result = cascades.groupby(\"user_id\").agg({\"influence\" : \"mean\"})"
   ]
  },
  {
   "cell_type": "code",
   "execution_count": 12,
   "metadata": {},
   "outputs": [
    {
     "data": {
      "text/html": [
       "<div>\n",
       "<style>\n",
       "    .dataframe thead tr:only-child th {\n",
       "        text-align: right;\n",
       "    }\n",
       "\n",
       "    .dataframe thead th {\n",
       "        text-align: left;\n",
       "    }\n",
       "\n",
       "    .dataframe tbody tr th {\n",
       "        vertical-align: top;\n",
       "    }\n",
       "</style>\n",
       "<table border=\"1\" class=\"dataframe\">\n",
       "  <thead>\n",
       "    <tr style=\"text-align: right;\">\n",
       "      <th></th>\n",
       "      <th>influence</th>\n",
       "    </tr>\n",
       "    <tr>\n",
       "      <th>user_id</th>\n",
       "      <th></th>\n",
       "    </tr>\n",
       "  </thead>\n",
       "  <tbody>\n",
       "    <tr>\n",
       "      <th>0</th>\n",
       "      <td>105.200000</td>\n",
       "    </tr>\n",
       "    <tr>\n",
       "      <th>1</th>\n",
       "      <td>24.082416</td>\n",
       "    </tr>\n",
       "    <tr>\n",
       "      <th>2</th>\n",
       "      <td>12.556659</td>\n",
       "    </tr>\n",
       "    <tr>\n",
       "      <th>3</th>\n",
       "      <td>21.046287</td>\n",
       "    </tr>\n",
       "    <tr>\n",
       "      <th>4</th>\n",
       "      <td>16.699684</td>\n",
       "    </tr>\n",
       "  </tbody>\n",
       "</table>\n",
       "</div>"
      ],
      "text/plain": [
       "          influence\n",
       "user_id            \n",
       "0        105.200000\n",
       "1         24.082416\n",
       "2         12.556659\n",
       "3         21.046287\n",
       "4         16.699684"
      ]
     },
     "execution_count": 12,
     "metadata": {},
     "output_type": "execute_result"
    }
   ],
   "source": [
    "result.head()"
   ]
  },
  {
   "cell_type": "code",
   "execution_count": null,
   "metadata": {
    "collapsed": true
   },
   "outputs": [],
   "source": []
  }
 ],
 "metadata": {
  "kernelspec": {
   "display_name": "Python 3",
   "language": "python",
   "name": "python3"
  },
  "language_info": {
   "codemirror_mode": {
    "name": "ipython",
    "version": 3
   },
   "file_extension": ".py",
   "mimetype": "text/x-python",
   "name": "python",
   "nbconvert_exporter": "python",
   "pygments_lexer": "ipython3",
   "version": "3.6.3"
  }
 },
 "nbformat": 4,
 "nbformat_minor": 2
}
